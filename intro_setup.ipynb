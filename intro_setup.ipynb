{
  "cells": [
    {
      "cell_type": "markdown",
      "id": "a2149e37-fab1-43f1-9ac8-8e7f81c57707",
      "metadata": {
        "id": "a2149e37-fab1-43f1-9ac8-8e7f81c57707"
      },
      "source": [
        "## Activate GPU\n",
        "\n",
        "- To get access to a GPU, click on the *Runtime* menu and select *Change runtime type*. Choose GPU as a Hardware accelerator. It might take a minute for your notebook to connect to a GPU.\n",
        "- To check whether a GPU has been connected to your session, run the code cell below with the ``!nvidia-smi`` command by hitting ``SHIFT-ENTER`` on it."
      ]
    },
    {
      "cell_type": "code",
      "execution_count": 1,
      "id": "b6c6f23a-d333-409b-b254-f3bc120d425d",
      "metadata": {
        "colab": {
          "base_uri": "https://localhost:8080/"
        },
        "id": "b6c6f23a-d333-409b-b254-f3bc120d425d",
        "outputId": "9e7f20cd-df9e-4a3b-8fd5-e7e15d694ec1"
      },
      "outputs": [
        {
          "output_type": "stream",
          "name": "stdout",
          "text": [
            "Mon Dec 13 12:55:06 2021       \n",
            "+-----------------------------------------------------------------------------+\n",
            "| NVIDIA-SMI 495.44       Driver Version: 460.32.03    CUDA Version: 11.2     |\n",
            "|-------------------------------+----------------------+----------------------+\n",
            "| GPU  Name        Persistence-M| Bus-Id        Disp.A | Volatile Uncorr. ECC |\n",
            "| Fan  Temp  Perf  Pwr:Usage/Cap|         Memory-Usage | GPU-Util  Compute M. |\n",
            "|                               |                      |               MIG M. |\n",
            "|===============================+======================+======================|\n",
            "|   0  Tesla K80           Off  | 00000000:00:04.0 Off |                    0 |\n",
            "| N/A   55C    P8    30W / 149W |      0MiB / 11441MiB |      0%      Default |\n",
            "|                               |                      |                  N/A |\n",
            "+-------------------------------+----------------------+----------------------+\n",
            "                                                                               \n",
            "+-----------------------------------------------------------------------------+\n",
            "| Processes:                                                                  |\n",
            "|  GPU   GI   CI        PID   Type   Process name                  GPU Memory |\n",
            "|        ID   ID                                                   Usage      |\n",
            "|=============================================================================|\n",
            "|  No running processes found                                                 |\n",
            "+-----------------------------------------------------------------------------+\n"
          ]
        }
      ],
      "source": [
        "!nvidia-smi"
      ]
    },
    {
      "cell_type": "markdown",
      "id": "dfc3df1f-7fd3-4e76-80e6-e45c09142609",
      "metadata": {
        "id": "dfc3df1f-7fd3-4e76-80e6-e45c09142609"
      },
      "source": [
        "### Syntax sugar \n",
        "\n",
        "When you run a command with \n",
        "\n",
        "- `!`  it directly executes a bash command in a subshell.\n",
        "\n",
        "- `%`  it executes one of the magic commands defined in IPython.\n",
        "\n",
        "Some of the magic commands defined by IPython deliberately mirror bash commands, but they differ in the implementation details.\n",
        "\n",
        "For example, running the !cd bash command does not persistently change your directory, because it runs in a temporary subshell. However, running the %cd magic command will persistently change your directory:\n",
        "\n",
        "```.sh\n",
        "!pwd\n",
        "# /content\n",
        "\n",
        "!cd sample_data/\n",
        "!pwd\n",
        "# /content\n",
        "\n",
        "%cd sample_data/\n",
        "!pwd\n",
        "# /content/sample_data\n",
        "```\n",
        "\n",
        "Reference <https://ipython.readthedocs.io/en/stable/interactive/magics.html>"
      ]
    },
    {
      "cell_type": "markdown",
      "id": "968277ee-c022-4ecc-8b46-9452e2c4b670",
      "metadata": {
        "id": "968277ee-c022-4ecc-8b46-9452e2c4b670"
      },
      "source": [
        "## Get the material"
      ]
    },
    {
      "cell_type": "code",
      "execution_count": 2,
      "id": "1f666f00-6d5f-4253-be63-a2a21bb56287",
      "metadata": {
        "tags": [],
        "colab": {
          "base_uri": "https://localhost:8080/"
        },
        "id": "1f666f00-6d5f-4253-be63-a2a21bb56287",
        "outputId": "84bb956a-575c-4d21-94e1-82baa8437d6c"
      },
      "outputs": [
        {
          "output_type": "stream",
          "name": "stdout",
          "text": [
            "fatal: destination path 'gpu_colab' already exists and is not an empty directory.\n"
          ]
        }
      ],
      "source": [
        "!git clone https://github.com/ggruszczynski/gpu_colab.git"
      ]
    },
    {
      "cell_type": "code",
      "source": [
        "! ls"
      ],
      "metadata": {
        "colab": {
          "base_uri": "https://localhost:8080/"
        },
        "id": "pjHRMGHu2l4n",
        "outputId": "982ec752-1845-4145-8815-1675f05e1eb7"
      },
      "id": "pjHRMGHu2l4n",
      "execution_count": 3,
      "outputs": [
        {
          "output_type": "stream",
          "name": "stdout",
          "text": [
            "gpu_colab  sample_data\n"
          ]
        }
      ]
    },
    {
      "cell_type": "code",
      "execution_count": 4,
      "id": "191a4b9d-76a7-45fe-84e1-3a7ecb5f0b09",
      "metadata": {
        "colab": {
          "base_uri": "https://localhost:8080/"
        },
        "id": "191a4b9d-76a7-45fe-84e1-3a7ecb5f0b09",
        "outputId": "1ecd3178-f6a2-4d10-b55b-97974fb7faad"
      },
      "outputs": [
        {
          "output_type": "stream",
          "name": "stdout",
          "text": [
            "/content/gpu_colab/code_samples\n"
          ]
        }
      ],
      "source": [
        "% cd gpu_colab/code_samples"
      ]
    },
    {
      "cell_type": "markdown",
      "id": "f45c6945-c7b0-4877-aadb-9ab4f01b814f",
      "metadata": {
        "id": "f45c6945-c7b0-4877-aadb-9ab4f01b814f"
      },
      "source": [
        "## List the content of the file"
      ]
    },
    {
      "cell_type": "code",
      "execution_count": 5,
      "id": "2c6149d7-60b0-41a9-9868-0c2b14c3650d",
      "metadata": {
        "colab": {
          "base_uri": "https://localhost:8080/"
        },
        "id": "2c6149d7-60b0-41a9-9868-0c2b14c3650d",
        "outputId": "0c2e6297-f394-4584-89a2-087f49c5a673"
      },
      "outputs": [
        {
          "output_type": "stream",
          "name": "stdout",
          "text": [
            "#include <stdio.h>\n",
            "\n",
            "// functions qualifers:\n",
            "// __global__ launched by CPU on device (must return void)\n",
            "// __device__ called from other GPU functions (never CPU)\n",
            "// __host__ can be executed by CPU\n",
            "// (can be used together with __device__)\n",
            "\n",
            "// kernel launch:\n",
            "// f_name<<<blocks,threads_per_block>>>(p1,... pN)\n",
            "\n",
            "__global__ void print_from_gpu(void) {\n",
            "    int tidx = blockIdx.x*blockDim.x+threadIdx.x;\n",
            "    printf(\"Hello from device! My threadId = blockIdx.x *blockDim.x + threadIdx.x <=> %d = %d * %d + %d \\n\",\n",
            "    tidx, blockIdx.x, blockDim.x, threadIdx.x);\n",
            "}\n",
            "\n",
            "int main(void) {\n",
            "    printf(\"Hello World from host!\\n\");\n",
            "\n",
            "    print_from_gpu<<<2,3>>>();  // <<<blocks, threads_per_block>>>\n",
            "    cudaDeviceSynchronize();\n",
            "    printf(\"-------------------------------\\n\");\n",
            "    dim3 grid_dim(2,1,1);\n",
            "    dim3 block_dim(3,1,1);\n",
            "    print_from_gpu<<<grid_dim, block_dim>>>();  // <<<blocks, threads_per_block>>>\n",
            "    cudaDeviceSynchronize();\n",
            "    return 0;\n",
            "}"
          ]
        }
      ],
      "source": [
        "!cat ex1_hello_world.cu"
      ]
    },
    {
      "cell_type": "markdown",
      "id": "c5a883dc-df24-4b1b-9383-11d9a35572dd",
      "metadata": {
        "id": "c5a883dc-df24-4b1b-9383-11d9a35572dd"
      },
      "source": [
        "# Check your GPU card\n",
        "if you received an older gpu like Tesla K80 (check the output of `!nvidia-smi` command) add the `-gencode arch=compute_35,code=sm_35` flags to nvcc compiler."
      ]
    },
    {
      "cell_type": "code",
      "execution_count": 6,
      "id": "06b6dfd1-ca56-4454-8b0e-2052287b244c",
      "metadata": {
        "colab": {
          "base_uri": "https://localhost:8080/"
        },
        "id": "06b6dfd1-ca56-4454-8b0e-2052287b244c",
        "outputId": "563814fb-3e65-49f9-8a51-bd56fb6d81cf"
      },
      "outputs": [
        {
          "output_type": "stream",
          "name": "stdout",
          "text": [
            "env: CUDA_SUFF=35\n",
            "nvcc warning : The 'compute_35', 'compute_37', 'compute_50', 'sm_35', 'sm_37' and 'sm_50' architectures are deprecated, and may be removed in a future release (Use -Wno-deprecated-gpu-targets to suppress warning).\n",
            "Hello World from host!\n",
            "Hello from device! My threadId = blockIdx.x *blockDim.x + threadIdx.x <=> 3 = 1 * 3 + 0 \n",
            "Hello from device! My threadId = blockIdx.x *blockDim.x + threadIdx.x <=> 4 = 1 * 3 + 1 \n",
            "Hello from device! My threadId = blockIdx.x *blockDim.x + threadIdx.x <=> 5 = 1 * 3 + 2 \n",
            "Hello from device! My threadId = blockIdx.x *blockDim.x + threadIdx.x <=> 0 = 0 * 3 + 0 \n",
            "Hello from device! My threadId = blockIdx.x *blockDim.x + threadIdx.x <=> 1 = 0 * 3 + 1 \n",
            "Hello from device! My threadId = blockIdx.x *blockDim.x + threadIdx.x <=> 2 = 0 * 3 + 2 \n",
            "-------------------------------\n",
            "Hello from device! My threadId = blockIdx.x *blockDim.x + threadIdx.x <=> 3 = 1 * 3 + 0 \n",
            "Hello from device! My threadId = blockIdx.x *blockDim.x + threadIdx.x <=> 4 = 1 * 3 + 1 \n",
            "Hello from device! My threadId = blockIdx.x *blockDim.x + threadIdx.x <=> 5 = 1 * 3 + 2 \n",
            "Hello from device! My threadId = blockIdx.x *blockDim.x + threadIdx.x <=> 0 = 0 * 3 + 0 \n",
            "Hello from device! My threadId = blockIdx.x *blockDim.x + threadIdx.x <=> 1 = 0 * 3 + 1 \n",
            "Hello from device! My threadId = blockIdx.x *blockDim.x + threadIdx.x <=> 2 = 0 * 3 + 2 \n"
          ]
        }
      ],
      "source": [
        "%env  CUDA_SUFF=35\n",
        "!nvcc -gencode arch=compute_${CUDA_SUFF},code=sm_${CUDA_SUFF} ./ex1_hello_world.cu -o ex1_hello_world\n",
        "!./ex1_hello_world"
      ]
    }
  ],
  "metadata": {
    "kernelspec": {
      "display_name": "Python 3",
      "language": "python",
      "name": "python3"
    },
    "language_info": {
      "codemirror_mode": {
        "name": "ipython",
        "version": 3
      },
      "file_extension": ".py",
      "mimetype": "text/x-python",
      "name": "python",
      "nbconvert_exporter": "python",
      "pygments_lexer": "ipython3",
      "version": "3.8.10"
    },
    "colab": {
      "name": "intro_setup.ipynb",
      "provenance": []
    },
    "accelerator": "GPU"
  },
  "nbformat": 4,
  "nbformat_minor": 5
}