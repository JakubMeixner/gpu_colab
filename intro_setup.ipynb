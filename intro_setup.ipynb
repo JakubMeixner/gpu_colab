{
 "cells": [
  {
   "cell_type": "markdown",
   "id": "a2149e37-fab1-43f1-9ac8-8e7f81c57707",
   "metadata": {},
   "source": [
    "## Activate GPU\n",
    "\n",
    "- To get access to a GPU, click on the *Runtime* menu and select *Change runtime type*. Choose GPU as a Hardware accelerator. It might take a minute for your notebook to connect to a GPU.\n",
    "- To check whether a GPU has been connected to your session, run the code cell below with the ``!nvidia-smi`` command by hitting ``SHIFT-ENTER`` on it."
   ]
  },
  {
   "cell_type": "code",
   "execution_count": null,
   "id": "b6c6f23a-d333-409b-b254-f3bc120d425d",
   "metadata": {},
   "outputs": [],
   "source": [
    "!nvidia-smi"
   ]
  },
  {
   "cell_type": "markdown",
   "id": "dfc3df1f-7fd3-4e76-80e6-e45c09142609",
   "metadata": {},
   "source": [
    "### Syntax sugar \n",
    "\n",
    "When you run a command with \n",
    "\n",
    "- `!`  it directly executes a bash command in a subshell.\n",
    "\n",
    "- `%`  it executes one of the magic commands defined in IPython.\n",
    "\n",
    "Some of the magic commands defined by IPython deliberately mirror bash commands, but they differ in the implementation details.\n",
    "\n",
    "For example, running the !cd bash command does not persistently change your directory, because it runs in a temporary subshell. However, running the %cd magic command will persistently change your directory:\n",
    "\n",
    "```.sh\n",
    "!pwd\n",
    "# /content\n",
    "\n",
    "!cd sample_data/\n",
    "!pwd\n",
    "# /content\n",
    "\n",
    "%cd sample_data/\n",
    "!pwd\n",
    "# /content/sample_data\n",
    "```\n",
    "\n",
    "Reference <https://ipython.readthedocs.io/en/stable/interactive/magics.html>"
   ]
  },
  {
   "cell_type": "markdown",
   "id": "968277ee-c022-4ecc-8b46-9452e2c4b670",
   "metadata": {},
   "source": [
    "## Get the material"
   ]
  },
  {
   "cell_type": "code",
   "execution_count": null,
   "id": "1f666f00-6d5f-4253-be63-a2a21bb56287",
   "metadata": {
    "tags": []
   },
   "outputs": [],
   "source": [
    "!git clone https://github.com/ggruszczynski/gpu_colab.git"
   ]
  },
  {
   "cell_type": "markdown",
   "id": "aa35f74a-fb0c-4024-83b7-949617251c2a",
   "metadata": {},
   "source": [
    "!ls "
   ]
  },
  {
   "cell_type": "code",
   "execution_count": null,
   "id": "191a4b9d-76a7-45fe-84e1-3a7ecb5f0b09",
   "metadata": {},
   "outputs": [],
   "source": [
    "% cd code_samples"
   ]
  },
  {
   "cell_type": "markdown",
   "id": "f45c6945-c7b0-4877-aadb-9ab4f01b814f",
   "metadata": {},
   "source": [
    "## List the content of the file"
   ]
  },
  {
   "cell_type": "code",
   "execution_count": null,
   "id": "2c6149d7-60b0-41a9-9868-0c2b14c3650d",
   "metadata": {},
   "outputs": [],
   "source": [
    "!cat ex1_hello_world.cu"
   ]
  },
  {
   "cell_type": "markdown",
   "id": "c5a883dc-df24-4b1b-9383-11d9a35572dd",
   "metadata": {},
   "source": [
    "# Check your GPU card\n",
    "if you received an older gpu like Tesla K80 add the `-gencode arch=compute_35,code=sm_35` flags to nvcc compiler"
   ]
  },
  {
   "cell_type": "code",
   "execution_count": null,
   "id": "06b6dfd1-ca56-4454-8b0e-2052287b244c",
   "metadata": {},
   "outputs": [],
   "source": [
    "%env  CUDA_SUFF=35\n",
    "!nvcc -gencode arch=compute_${CUDA_SUFF},code=sm_${CUDA_SUFF} ./ex1_hello_world.cu -o ex1_hello_world\n",
    "!./ex1_hello_world"
   ]
  }
 ],
 "metadata": {
  "kernelspec": {
   "display_name": "Python 3",
   "language": "python",
   "name": "python3"
  },
  "language_info": {
   "codemirror_mode": {
    "name": "ipython",
    "version": 3
   },
   "file_extension": ".py",
   "mimetype": "text/x-python",
   "name": "python",
   "nbconvert_exporter": "python",
   "pygments_lexer": "ipython3",
   "version": "3.8.10"
  }
 },
 "nbformat": 4,
 "nbformat_minor": 5
}
