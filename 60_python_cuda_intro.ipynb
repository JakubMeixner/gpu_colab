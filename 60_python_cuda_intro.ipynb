{
  "cells": [
    {
      "cell_type": "markdown",
      "metadata": {
        "colab_type": "text",
        "id": "view-in-github"
      },
      "source": [
        "<a href=\"https://colab.research.google.com/github/ggruszczynski/gpu_colab/blob/main/60_python_cuda_intro.ipynb\" target=\"_parent\"><img src=\"https://colab.research.google.com/assets/colab-badge.svg\" alt=\"Open In Colab\"/></a>"
      ]
    },
    {
      "cell_type": "markdown",
      "metadata": {
        "id": "9qF1uQPZBNA3"
      },
      "source": [
        "# Python + cuda\n",
        "\n",
        "Let us repeat the previous exercises in python."
      ]
    },
    {
      "cell_type": "code",
      "execution_count": 25,
      "metadata": {
        "colab": {
          "base_uri": "https://localhost:8080/"
        },
        "id": "vt3YAkBnBW-f",
        "outputId": "d37e88e7-8f25-4275-9761-34c976d9435c"
      },
      "outputs": [
        {
          "name": "stdout",
          "output_type": "stream",
          "text": [
            "Mon Nov  7 10:45:37 2022       \n",
            "+-----------------------------------------------------------------------------+\n",
            "| NVIDIA-SMI 460.32.03    Driver Version: 460.32.03    CUDA Version: 11.2     |\n",
            "|-------------------------------+----------------------+----------------------+\n",
            "| GPU  Name        Persistence-M| Bus-Id        Disp.A | Volatile Uncorr. ECC |\n",
            "| Fan  Temp  Perf  Pwr:Usage/Cap|         Memory-Usage | GPU-Util  Compute M. |\n",
            "|                               |                      |               MIG M. |\n",
            "|===============================+======================+======================|\n",
            "|   0  Tesla T4            Off  | 00000000:00:04.0 Off |                    0 |\n",
            "| N/A   76C    P0    33W /  70W |   3178MiB / 15109MiB |      0%      Default |\n",
            "|                               |                      |                  N/A |\n",
            "+-------------------------------+----------------------+----------------------+\n",
            "                                                                               \n",
            "+-----------------------------------------------------------------------------+\n",
            "| Processes:                                                                  |\n",
            "|  GPU   GI   CI        PID   Type   Process name                  GPU Memory |\n",
            "|        ID   ID                                                   Usage      |\n",
            "|=============================================================================|\n",
            "+-----------------------------------------------------------------------------+\n"
          ]
        }
      ],
      "source": [
        "!nvidia-smi"
      ]
    },
    {
      "cell_type": "code",
      "execution_count": 26,
      "metadata": {
        "colab": {
          "base_uri": "https://localhost:8080/"
        },
        "id": "nHQPUQyGfXlv",
        "outputId": "6c4e97a8-939a-4a1a-e509-df27b61f9ee6"
      },
      "outputs": [
        {
          "name": "stdout",
          "output_type": "stream",
          "text": [
            "Number of elements: 67108864 \n",
            "Memory size of array element in [MB]: 536.870912\n"
          ]
        }
      ],
      "source": [
        "from numba import cuda\n",
        "from numba import jit\n",
        "import numpy as np\n",
        "from numba import vectorize, int32, int64, float32, float64\n",
        "import matplotlib.pyplot as plt\n",
        "\n",
        "%matplotlib inline\n",
        "\n",
        "N = 2**26\n",
        "x = np.arange(N, dtype=np.float64) # [0...N] on the host\n",
        "\n",
        "print(f\"Number of elements: {N} \\nMemory size of array element in [MB]: {x.nbytes/1E6}\")\n"
      ]
    },
    {
      "cell_type": "markdown",
      "metadata": {
        "id": "j55C2R4pkD5M"
      },
      "source": [
        "## Reduction"
      ]
    },
    {
      "cell_type": "code",
      "execution_count": 27,
      "metadata": {
        "colab": {
          "base_uri": "https://localhost:8080/"
        },
        "id": "H-inIbgFgpPj",
        "outputId": "c41c8b48-5a42-4458-f49c-860924a28be4"
      },
      "outputs": [
        {
          "name": "stderr",
          "output_type": "stream",
          "text": [
            "/usr/local/lib/python3.7/dist-packages/numba/cuda/dispatcher.py:488: NumbaPerformanceWarning: Grid size 64 will likely result in GPU under-utilization due to low occupancy.\n",
            "  warn(NumbaPerformanceWarning(msg))\n",
            "/usr/local/lib/python3.7/dist-packages/numba/cuda/cudadrv/devicearray.py:885: NumbaPerformanceWarning: Host array used in CUDA kernel will incur copy overhead to/from device.\n",
            "  warn(NumbaPerformanceWarning(msg))\n",
            "/usr/local/lib/python3.7/dist-packages/numba/cuda/dispatcher.py:488: NumbaPerformanceWarning: Grid size 1 will likely result in GPU under-utilization due to low occupancy.\n",
            "  warn(NumbaPerformanceWarning(msg))\n"
          ]
        }
      ],
      "source": [
        "# reference: https://numba.pydata.org/numba-doc/dev/cuda/reduction.html\n",
        "\n",
        "@cuda.reduce\n",
        "def sum_reduce(a, b):\n",
        "    return a + b\n",
        "\n",
        "expect = x.sum()      # numpy sum reduction\n",
        "got = sum_reduce(x)   # cuda sum reduction\n",
        "assert expect == got\n"
      ]
    },
    {
      "cell_type": "code",
      "execution_count": 28,
      "metadata": {
        "colab": {
          "base_uri": "https://localhost:8080/"
        },
        "id": "aTVuw5m9gxfi",
        "outputId": "8c9a068d-2ee8-4440-bf6c-686aa8c90489"
      },
      "outputs": [
        {
          "name": "stderr",
          "output_type": "stream",
          "text": [
            "/usr/local/lib/python3.7/dist-packages/numba/cuda/dispatcher.py:488: NumbaPerformanceWarning: Grid size 64 will likely result in GPU under-utilization due to low occupancy.\n",
            "  warn(NumbaPerformanceWarning(msg))\n",
            "/usr/local/lib/python3.7/dist-packages/numba/cuda/dispatcher.py:488: NumbaPerformanceWarning: Grid size 1 will likely result in GPU under-utilization due to low occupancy.\n",
            "  warn(NumbaPerformanceWarning(msg))\n"
          ]
        }
      ],
      "source": [
        "#Lambda functions can also be used here:\n",
        "sum_reduce_lam = cuda.reduce(lambda a, b: a + b)\n",
        "\n",
        "expect = x.sum()      # numpy sum reduction\n",
        "got = sum_reduce_lam(d_x)   # cuda sum reduction\n",
        "assert expect == got"
      ]
    },
    {
      "cell_type": "code",
      "execution_count": 29,
      "metadata": {
        "colab": {
          "base_uri": "https://localhost:8080/"
        },
        "id": "sRekYJDwg0_l",
        "outputId": "1829e71a-eff8-4509-d8b5-ef98e16ff96c"
      },
      "outputs": [
        {
          "name": "stdout",
          "output_type": "stream",
          "text": [
            "44.5 ms ± 346 µs per loop (mean ± std. dev. of 7 runs, 10 loops each)\n"
          ]
        }
      ],
      "source": [
        "%timeit x.sum()    # NumPy on CPU"
      ]
    },
    {
      "cell_type": "code",
      "execution_count": 30,
      "metadata": {
        "colab": {
          "base_uri": "https://localhost:8080/"
        },
        "id": "xM-z1feZg4g1",
        "outputId": "56c223ee-31bd-4467-8c8c-9e13500b1238"
      },
      "outputs": [
        {
          "name": "stderr",
          "output_type": "stream",
          "text": [
            "/usr/local/lib/python3.7/dist-packages/numba/cuda/cudadrv/devicearray.py:885: NumbaPerformanceWarning: Host array used in CUDA kernel will incur copy overhead to/from device.\n",
            "  warn(NumbaPerformanceWarning(msg))\n"
          ]
        },
        {
          "name": "stdout",
          "output_type": "stream",
          "text": [
            "251 ms ± 31.8 ms per loop (mean ± std. dev. of 7 runs, 1 loop each)\n"
          ]
        }
      ],
      "source": [
        "%timeit sum_reduce_lam(x) # Numba on GPU - data from host"
      ]
    },
    {
      "cell_type": "code",
      "execution_count": 31,
      "metadata": {
        "colab": {
          "base_uri": "https://localhost:8080/"
        },
        "id": "ZkL2PuC7kYFp",
        "outputId": "a63377f8-f6c7-4949-ce82-705bd59163dd"
      },
      "outputs": [
        {
          "name": "stdout",
          "output_type": "stream",
          "text": [
            "2.57 ms ± 17.1 µs per loop (mean ± std. dev. of 7 runs, 100 loops each)\n"
          ]
        }
      ],
      "source": [
        "%timeit sum_reduce_lam(d_x) # Numba on GPU - prefetched data"
      ]
    },
    {
      "cell_type": "markdown",
      "metadata": {
        "id": "BXs5A0DQESu-"
      },
      "source": []
    },
    {
      "cell_type": "markdown",
      "metadata": {
        "id": "u1LqTI_TEawo"
      },
      "source": [
        "## SAXPY\n",
        "\n",
        "**SAXPY** stands for “Single-Precision A·X Plus Y”. It is a function in the standard Basic Linear Algebra Subroutines (BLAS) library."
      ]
    },
    {
      "cell_type": "code",
      "execution_count": 32,
      "metadata": {
        "id": "AASMcWZbsQMv"
      },
      "outputs": [],
      "source": [
        "a = 10\n",
        "y = np.copy(x)\n",
        "\n",
        "d_a = cuda.to_device(a) # Copy of a on the device\n",
        "d_x = cuda.to_device(x) # Copy of x on the device\n",
        "d_y = cuda.to_device(y) # Copy of y on the device\n",
        "d_out = cuda.device_array_like(d_x) # Like np.array_like, but for device arrays\n"
      ]
    },
    {
      "cell_type": "code",
      "execution_count": 33,
      "metadata": {
        "id": "DR4IAy8Df_Sq"
      },
      "outputs": [],
      "source": [
        "\n",
        "@vectorize(['float64(int64, float64, float64)'], target='cuda') # Type signature and target are required for the GPU\n",
        "def add_ufunc(a, x, y):\n",
        "    return a*x + y"
      ]
    },
    {
      "cell_type": "code",
      "execution_count": 34,
      "metadata": {
        "colab": {
          "base_uri": "https://localhost:8080/"
        },
        "id": "HiYG5WgHnMdU",
        "outputId": "f6c5bf9d-12b5-4720-9a14-03d09959317f"
      },
      "outputs": [
        {
          "data": {
            "text/plain": [
              "True"
            ]
          },
          "execution_count": 34,
          "metadata": {},
          "output_type": "execute_result"
        }
      ],
      "source": [
        "expect = a*x + y      # numpy sum reduction\n",
        "got = add_ufunc(d_a, d_x, d_y)   # cuda sum reduction\n",
        "# assert expect == got\n",
        "\n",
        "np.allclose(expect, got)"
      ]
    }
  ],
  "metadata": {
    "accelerator": "GPU",
    "colab": {
      "include_colab_link": true,
      "name": "example50_thrust.ipynb",
      "provenance": []
    },
    "gpuClass": "standard",
    "kernelspec": {
      "display_name": "Python 3",
      "name": "python3"
    },
    "language_info": {
      "name": "python"
    }
  },
  "nbformat": 4,
  "nbformat_minor": 0
}
