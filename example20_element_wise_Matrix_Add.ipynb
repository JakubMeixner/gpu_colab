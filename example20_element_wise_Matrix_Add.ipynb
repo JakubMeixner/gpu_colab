{
  "nbformat": 4,
  "nbformat_minor": 0,
  "metadata": {
    "colab": {
      "name": "Element-wise Matrix Add.ipynb",
      "provenance": [],
      "authorship_tag": "ABX9TyPv6/ZVlHdClj1OlkP9/v/E",
      "include_colab_link": true
    },
    "kernelspec": {
      "name": "python3",
      "display_name": "Python 3"
    },
    "language_info": {
      "name": "python"
    },
    "accelerator": "GPU"
  },
  "cells": [
    {
      "cell_type": "markdown",
      "metadata": {
        "id": "view-in-github",
        "colab_type": "text"
      },
      "source": [
        "<a href=\"https://colab.research.google.com/github/ggruszczynski/gpu_colab/blob/main/example20_element_wise_Matrix_Add.ipynb\" target=\"_parent\"><img src=\"https://colab.research.google.com/assets/colab-badge.svg\" alt=\"Open In Colab\"/></a>"
      ]
    },
    {
      "cell_type": "markdown",
      "source": [
        "# Element-wise Matrix Add\n",
        "\n",
        "As a step by step instruction has been presented in tutorial 2, here is a time for a stand-alone practice.\n",
        "\n",
        "Accelerate the serial, element-wise square matrix addition code using cuda kernel."
      ],
      "metadata": {
        "id": "hV-OroTIr_wu"
      }
    },
    {
      "cell_type": "code",
      "execution_count": null,
      "metadata": {
        "id": "aEOoFtVpr6RX"
      },
      "outputs": [],
      "source": [
        "%%file matrix_add.cu\n",
        "\n",
        "#include <stdio.h>\n",
        "\n",
        "\n",
        "cpu_add_matrix_elementwise (float* a, float* b, float* c, int N)\n",
        "{\n",
        "    int index;\n",
        "\n",
        "    for (int i=0; i <N; ++i)\n",
        "        for (int j=0; j <N; ++j)\n",
        "        {\n",
        "            index = i + j*N\n",
        "            c[index] = a[index] + b[index];\n",
        "        }\n",
        "}\n",
        "\n",
        "void print_matrix(float *Matrix, const int N)\n",
        "{\n",
        "    for (int i=0; i <N; ++i)\n",
        "    {\n",
        "        printf(\"\\n\");\n",
        "        for (int j=0; j <N; ++j)\n",
        "        {\n",
        "            int index = i + j*N;\n",
        "            printf(\" %f \",Matrix[index]);\n",
        "        }\n",
        "    }  \n",
        "}\n",
        "\n",
        "void CPU_version_wrapper(const int N)\n",
        "{\n",
        "    const int mem_size = N*N*sizeof(float);\n",
        "\n",
        "    float* A = (float*)malloc(mem_size);\n",
        "    float* B = (float*)malloc(mem_size);\n",
        "    float* C = (float*)malloc(mem_size);\n",
        "\n",
        "    // initialize data\n",
        "    for (int i=0; i <N; ++i)\n",
        "    {\n",
        "        for (int j=0; j <N; ++j)\n",
        "        {\n",
        "            int index = i + j*N;\n",
        "            A[index] = 2.*index;\n",
        "            B[index] = 3.*index;\n",
        "        }\n",
        "    }\n",
        "\n",
        "    // run calculations\n",
        "    cpu_add_matrix_elementwise(A,B,C,N);\n",
        "    print_matrix(C, N);\n",
        "\n",
        "    // Free memory\n",
        "    free(A); free(B); free(C);\n",
        "}\n",
        "\n",
        "int main(){\n",
        "    const int N = 8;\n",
        "    CPU_version_wrapper(N);\n",
        "    printf(\"\\n----------------------------------\\n\");\n",
        "    //GPU_version_wrapper(N);\n",
        "    printf(\"\\n\");\n",
        "    return 0;\n",
        "}"
      ]
    },
    {
      "cell_type": "code",
      "source": [
        "!echo \"Check your GPU version\"\n",
        "!nvidia-smi"
      ],
      "metadata": {
        "colab": {
          "base_uri": "https://localhost:8080/"
        },
        "id": "KZKWaafOsL0h",
        "outputId": "e433c9f5-c422-4dea-b10c-e273ddcce934"
      },
      "execution_count": null,
      "outputs": [
        {
          "output_type": "stream",
          "name": "stdout",
          "text": [
            "Check your GPU version\n",
            "Wed Feb 23 17:54:03 2022       \n",
            "+-----------------------------------------------------------------------------+\n",
            "| NVIDIA-SMI 460.32.03    Driver Version: 460.32.03    CUDA Version: 11.2     |\n",
            "|-------------------------------+----------------------+----------------------+\n",
            "| GPU  Name        Persistence-M| Bus-Id        Disp.A | Volatile Uncorr. ECC |\n",
            "| Fan  Temp  Perf  Pwr:Usage/Cap|         Memory-Usage | GPU-Util  Compute M. |\n",
            "|                               |                      |               MIG M. |\n",
            "|===============================+======================+======================|\n",
            "|   0  Tesla T4            Off  | 00000000:00:04.0 Off |                    0 |\n",
            "| N/A   49C    P8    10W /  70W |      0MiB / 15109MiB |      0%      Default |\n",
            "|                               |                      |                  N/A |\n",
            "+-------------------------------+----------------------+----------------------+\n",
            "                                                                               \n",
            "+-----------------------------------------------------------------------------+\n",
            "| Processes:                                                                  |\n",
            "|  GPU   GI   CI        PID   Type   Process name                  GPU Memory |\n",
            "|        ID   ID                                                   Usage      |\n",
            "|=============================================================================|\n",
            "|  No running processes found                                                 |\n",
            "+-----------------------------------------------------------------------------+\n"
          ]
        }
      ]
    },
    {
      "cell_type": "code",
      "source": [
        "%%bash\n",
        "\n",
        "CUDA_SUFF=35\n",
        "nvcc -gencode arch=compute_${CUDA_SUFF},code=sm_${CUDA_SUFF} ./matrix_add.cu -o matrix_add\n",
        "./matrix_add"
      ],
      "metadata": {
        "id": "W3ixUUhwtK2y"
      },
      "execution_count": null,
      "outputs": []
    }
  ]
}