{
  "cells": [
    {
      "cell_type": "markdown",
      "metadata": {
        "id": "view-in-github",
        "colab_type": "text"
      },
      "source": [
        "<a href=\"https://colab.research.google.com/github/ggruszczynski/gpu_colab/blob/main/60_python_cuda_basic.ipynb\" target=\"_parent\"><img src=\"https://colab.research.google.com/assets/colab-badge.svg\" alt=\"Open In Colab\"/></a>"
      ]
    },
    {
      "cell_type": "markdown",
      "metadata": {
        "id": "9qF1uQPZBNA3"
      },
      "source": [
        "# Python + cuda\n",
        "\n"
      ]
    },
    {
      "cell_type": "code",
      "source": [
        "# reference: https://numba.pydata.org/numba-doc/dev/cuda/reduction.html\n",
        "\n",
        "\n",
        "from numba import cuda\n",
        "from numba import jit\n",
        "import numpy as np\n",
        "from numba import vectorize, int32, int64, float32, float64\n",
        "import matplotlib.pyplot as plt\n",
        "\n",
        "%matplotlib inline\n",
        "\n",
        "N = 4096\n",
        "x = (np.arange(N, dtype=np.float64)) # [0...N] on the host\n",
        "y = np.arange(N, dtype=np.float64 \n",
        "\n",
        "\n",
        "d_x = cuda.to_device(x) # Copy of x on the device\n",
        "d_y = cuda.to_device(y) # Copy of y on the device\n",
        "d_out = cuda.device_array_like(d_x) # Like np.array_like, but for device arrays\n"
      ],
      "metadata": {
        "id": "nHQPUQyGfXlv",
        "outputId": "4d2e2005-ebbd-434e-d797-7ff421386f3c",
        "colab": {
          "base_uri": "https://localhost:8080/",
          "height": 131
        }
      },
      "execution_count": 3,
      "outputs": [
        {
          "output_type": "error",
          "ename": "SyntaxError",
          "evalue": "ignored",
          "traceback": [
            "\u001b[0;36m  File \u001b[0;32m\"<ipython-input-3-3f3a70c1c5e7>\"\u001b[0;36m, line \u001b[0;32m17\u001b[0m\n\u001b[0;31m    d_x = cuda.to_device(x) # Copy of x on the device\u001b[0m\n\u001b[0m      ^\u001b[0m\n\u001b[0;31mSyntaxError\u001b[0m\u001b[0;31m:\u001b[0m invalid syntax\n"
          ]
        }
      ]
    },
    {
      "cell_type": "code",
      "source": [
        "@cuda.reduce\n",
        "def sum_reduce(a, b):\n",
        "    return a + b\n",
        "\n",
        "\n",
        "expect = x.sum()      # numpy sum reduction\n",
        "got = sum_reduce(x)   # cuda sum reduction\n",
        "assert expect == got\n"
      ],
      "metadata": {
        "id": "H-inIbgFgpPj"
      },
      "execution_count": null,
      "outputs": []
    },
    {
      "cell_type": "code",
      "source": [
        "#Lambda functions can also be used here:\n",
        "sum_reduce_lam = cuda.reduce(lambda a, b: a + b)\n",
        "\n",
        "expect = x.sum()      # numpy sum reduction\n",
        "got = sum_reduce_lam(x)   # cuda sum reduction\n",
        "assert expect == got"
      ],
      "metadata": {
        "id": "aTVuw5m9gxfi"
      },
      "execution_count": null,
      "outputs": []
    },
    {
      "cell_type": "code",
      "source": [
        "%timeit np.add(x, y)   # NumPy on CPU"
      ],
      "metadata": {
        "id": "sRekYJDwg0_l"
      },
      "execution_count": null,
      "outputs": []
    },
    {
      "cell_type": "code",
      "source": [
        "%timeit add_ufunc(x, y) # Numba on GPU"
      ],
      "metadata": {
        "id": "xM-z1feZg4g1"
      },
      "execution_count": null,
      "outputs": []
    },
    {
      "cell_type": "code",
      "source": [
        "\n",
        "@vectorize(['float64(float64, float64)'], target='cuda') # Type signature and target are required for the GPU\n",
        "def add_ufunc(x, y):\n",
        "    return x + y"
      ],
      "metadata": {
        "id": "DR4IAy8Df_Sq"
      },
      "execution_count": null,
      "outputs": []
    },
    {
      "cell_type": "markdown",
      "metadata": {
        "id": "BXs5A0DQESu-"
      },
      "source": [
        "## Reduction"
      ]
    },
    {
      "cell_type": "code",
      "execution_count": null,
      "metadata": {
        "colab": {
          "base_uri": "https://localhost:8080/"
        },
        "id": "vt3YAkBnBW-f",
        "outputId": "494c9050-38ca-4b10-8467-727dbe54633d"
      },
      "outputs": [
        {
          "name": "stdout",
          "output_type": "stream",
          "text": [
            "Wed Feb 23 19:30:25 2022       \n",
            "+-----------------------------------------------------------------------------+\n",
            "| NVIDIA-SMI 460.32.03    Driver Version: 460.32.03    CUDA Version: 11.2     |\n",
            "|-------------------------------+----------------------+----------------------+\n",
            "| GPU  Name        Persistence-M| Bus-Id        Disp.A | Volatile Uncorr. ECC |\n",
            "| Fan  Temp  Perf  Pwr:Usage/Cap|         Memory-Usage | GPU-Util  Compute M. |\n",
            "|                               |                      |               MIG M. |\n",
            "|===============================+======================+======================|\n",
            "|   0  Tesla K80           Off  | 00000000:00:04.0 Off |                    0 |\n",
            "| N/A   35C    P8    26W / 149W |      0MiB / 11441MiB |      0%      Default |\n",
            "|                               |                      |                  N/A |\n",
            "+-------------------------------+----------------------+----------------------+\n",
            "                                                                               \n",
            "+-----------------------------------------------------------------------------+\n",
            "| Processes:                                                                  |\n",
            "|  GPU   GI   CI        PID   Type   Process name                  GPU Memory |\n",
            "|        ID   ID                                                   Usage      |\n",
            "|=============================================================================|\n",
            "|  No running processes found                                                 |\n",
            "+-----------------------------------------------------------------------------+\n"
          ]
        }
      ],
      "source": [
        "!nvidia-smi"
      ]
    },
    {
      "cell_type": "markdown",
      "metadata": {
        "id": "u1LqTI_TEawo"
      },
      "source": [
        "## SAXPY\n",
        "\n",
        "**SAXPY** stands for “Single-Precision A·X Plus Y”. It is a function in the standard Basic Linear Algebra Subroutines (BLAS)library."
      ]
    }
  ],
  "metadata": {
    "accelerator": "GPU",
    "colab": {
      "name": "example50_thrust.ipynb",
      "provenance": [],
      "authorship_tag": "ABX9TyOIdWwNaB8S+w2vW4lgCLnI",
      "include_colab_link": true
    },
    "kernelspec": {
      "display_name": "Python 3",
      "name": "python3"
    },
    "language_info": {
      "name": "python"
    },
    "gpuClass": "standard"
  },
  "nbformat": 4,
  "nbformat_minor": 0
}