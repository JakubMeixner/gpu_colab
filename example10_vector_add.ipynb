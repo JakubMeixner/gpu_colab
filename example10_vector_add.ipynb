{
  "nbformat": 4,
  "nbformat_minor": 0,
  "metadata": {
    "colab": {
      "name": "example10_vector_add.ipynb",
      "provenance": [],
      "authorship_tag": "ABX9TyOXGMDjwKlMKTjZDe2LP3NT",
      "include_colab_link": true
    },
    "kernelspec": {
      "name": "python3",
      "display_name": "Python 3"
    },
    "language_info": {
      "name": "python"
    },
    "accelerator": "GPU"
  },
  "cells": [
    {
      "cell_type": "markdown",
      "metadata": {
        "id": "view-in-github",
        "colab_type": "text"
      },
      "source": [
        "<a href=\"https://colab.research.google.com/github/ggruszczynski/gpu_colab/blob/main/example10_vector_add.ipynb\" target=\"_parent\"><img src=\"https://colab.research.google.com/assets/colab-badge.svg\" alt=\"Open In Colab\"/></a>"
      ]
    },
    {
      "cell_type": "markdown",
      "source": [
        "# Vector Add\n",
        "\n",
        "In this example, a step by step vector addition on GPU will be shown. This kind of operation is known as SAXPY (Single-precision A*X Plus Y).\n",
        "\n"
      ],
      "metadata": {
        "id": "mqzS-d1dqDPQ"
      }
    },
    {
      "cell_type": "code",
      "source": [
        "%%file vector_add.cu\n",
        "#include <stdio.h>\n",
        "#include <assert.h>\n",
        "\n",
        "\n",
        "//cudaMemcpy (void ∗dst, const void ∗src, size t count, enum cudaMemcpyKind kind)\n",
        "#define MAX_THREADS_IN_BLOCK 1024\n",
        "\n",
        "#define MAX_ERR 1e-6\n",
        "\n",
        "using namespace std;\n",
        "\n",
        "void cpu_vector_add(float *h_out, float *h_a, float *h_b, int n) {\n",
        "    int tid = 0; // this is CPU zero, so we start at zero\n",
        "    while (tid < n)\n",
        "    {\n",
        "        h_out[tid] = h_a[tid] + h_b[tid];\n",
        "        tid += 1;  // we have one CPU, so we increment by one\n",
        "    }\n",
        "\n",
        "    // same, using the for loop\n",
        "    // for(int i = 0; i < n; i++){\n",
        "    //     h_out[i] = h_a[i] + h_b[i];\n",
        "    // }\n",
        "}\n",
        "\n",
        "__global__ void gpu_vector_add(float *out, float *a, float *b, int n) {\n",
        "    // built-in variable blockDim.x describes amount threads per block\n",
        "    int tid = blockIdx.x * blockDim.x + threadIdx.x;\n",
        "\n",
        "    // check if still inside array\n",
        "    if (tid < n)\n",
        "        out[tid] = a[tid] + b[tid];\n",
        "\n",
        "    // more advanced version - handling arbitrary vector/kernel size\n",
        "    // Consider case when gridDim*blockDim < vector size\n",
        "    // int step = gridDim.x * blockDim.x;\n",
        "    // while (tid < n)\n",
        "    // {\n",
        "    //     out[tid] = a[tid] + b[tid];\n",
        "    //     tid += step;\n",
        "    // }\n",
        "\n",
        "    // same, using the for loop\n",
        "    // for(; tid < n; tid += step){\n",
        "    //     out[tid] = a[tid] + b[tid];\n",
        "    // }\n",
        "}\n",
        "\n",
        "void CPU_version_wrapper(const int N)\n",
        "{\n",
        "    float *h_a, *h_b, *h_out; \n",
        "\n",
        "    // Allocate host memory (RAM for CPU)\n",
        "    h_a   = (float*)malloc(sizeof(float) * N);\n",
        "    h_b   = (float*)malloc(sizeof(float) * N);\n",
        "    h_out = (float*)malloc(sizeof(float) * N);\n",
        "\n",
        "    // Initialize array\n",
        "    for(int i = 0; i < N; i++){\n",
        "        h_a[i] = 1.0; \n",
        "        h_b[i] = 2.0;\n",
        "    }\n",
        "\n",
        "    // Main function\n",
        "    cpu_vector_add(h_out, h_a, h_b, N);\n",
        "\n",
        "    for(int i = 0; i < N; i++){\n",
        "        assert(fabs(h_out[i] - h_a[i] - h_b[i]) < MAX_ERR);\n",
        "    }\n",
        "    printf(\"CPU assertion PASSED\\n\");\n",
        "    printf(\"CPU Last element in the array: out[%d] = %.2f\\n\\n\",N-1,  h_out[N-1]);\n",
        "\n",
        "    // Cleanup host memory\n",
        "    free(h_a); free(h_b); free(h_out);\n",
        "}\n",
        "\n",
        "void GPU_version_wrapper(const int N)\n",
        "{\n",
        "\n",
        "    // Allocate CPU memory\n",
        "    float *h_a, *h_b, *h_out; \n",
        "    h_a   = (float*)malloc(sizeof(float) * N);\n",
        "    h_b   = (float*)malloc(sizeof(float) * N);\n",
        "    h_out = (float*)malloc(sizeof(float) * N);\n",
        "\n",
        "    // Initialize array\n",
        "    for(int i = 0; i < N; i++){\n",
        "        h_a[i] = 1.0; \n",
        "        h_b[i] = 2.0;\n",
        "    }\n",
        "    \n",
        "    // Allocate device memory for d_a\n",
        "    float *d_a, *d_b, *d_out;\n",
        "    cudaMalloc((void**)&d_a, sizeof(float) * N);\n",
        "    cudaMalloc((void**)&d_b, sizeof(float) * N);\n",
        "    cudaMalloc((void**)&d_out, sizeof(float) * N);\n",
        "\n",
        "    // Transfer data from host to device  (global) memory\n",
        "    cudaMemcpy(d_a, h_a, sizeof(float) * N, cudaMemcpyHostToDevice);\n",
        "    cudaMemcpy(d_b, h_b, sizeof(float) * N, cudaMemcpyHostToDevice);\n",
        "\n",
        "    // Main function: Call the kernel\n",
        "    gpu_vector_add<<<1,MAX_THREADS_IN_BLOCK>>>(d_out, d_a, d_b, N);//  <<<blocks, threads_per_block>>>\n",
        "   \n",
        "    // implement a kernel for which gridDim*blockDim < vector size\n",
        "    // gpu_vector_add<<<2,64>>>(d_out, d_a, d_b, N);//  <<<blocks, threads_per_block>>>\n",
        "\n",
        "    // if N is a friendly multiplier of THREADS_PER_BLOCK\n",
        "    // gpu_vector_add<<<N/MAX_THREADS_IN_BLOCK,MAX_THREADS_IN_BLOCK>>>(d_out, d_a, d_b, N);\n",
        "    \n",
        "    // if N is not a friendly multiplier of THREADS_PER_BLOCK\n",
        "    // gpu_vector_add<<<(N + MAX_THREADS_IN_BLOCK-1) / MAX_THREADS_IN_BLOCK, MAX_THREADS_IN_BLOCK>>>(d_out, d_a, d_b, N);\n",
        "\n",
        "    // Transfer data from device (global) memory to host\n",
        "    cudaMemcpy(h_out, d_out, sizeof(float) * N, cudaMemcpyDeviceToHost);\n",
        "    // cudaMemcpy() Blocks the CPU until the copy is complete\n",
        "    // Copy begins when all preceding CUDA calls have completed\n",
        "\n",
        "    // Verification\n",
        "    printf(\"GPU Last element in the array: out[%d] = %.2f\\n\",N-1,  h_out[N-1]);\n",
        "    for(int i = 0; i < N; i++){\n",
        "        assert(fabs(h_out[i] - h_a[i] - h_b[i]) < MAX_ERR);\n",
        "    }\n",
        "\n",
        "    printf(\"GPU assertion PASSED\\n\\n\");\n",
        "    \n",
        "    // Cleanup memory after kernel execution\n",
        "    cudaFree(d_a);cudaFree(d_b);cudaFree(d_out);\n",
        "    free(h_a);free(h_b);free(h_out);\n",
        "}\n",
        "\n",
        "\n",
        "\n",
        "int main(){\n",
        "    const int N = 1024;\n",
        "    CPU_version_wrapper(N);\n",
        "    GPU_version_wrapper(N);\n",
        "\n",
        "    return 0;\n",
        "}"
      ],
      "metadata": {
        "colab": {
          "base_uri": "https://localhost:8080/"
        },
        "id": "LA9OzTz9qDin",
        "outputId": "8145737d-f187-42bb-cb03-ad98c1f1ecdf"
      },
      "execution_count": 10,
      "outputs": [
        {
          "output_type": "stream",
          "name": "stdout",
          "text": [
            "Overwriting vector_add.cu\n"
          ]
        }
      ]
    },
    {
      "cell_type": "code",
      "source": [
        "!echo \"Check your GPU version\"\n",
        "!nvidia-smi"
      ],
      "metadata": {
        "colab": {
          "base_uri": "https://localhost:8080/"
        },
        "id": "BtRMp57qq2z_",
        "outputId": "a0b2ca17-1612-4ec4-81ea-b6f58e0d8a23"
      },
      "execution_count": 9,
      "outputs": [
        {
          "output_type": "stream",
          "name": "stdout",
          "text": [
            "Check your GPU version\n",
            "Wed Feb 23 18:51:22 2022       \n",
            "+-----------------------------------------------------------------------------+\n",
            "| NVIDIA-SMI 510.47.03    Driver Version: 510.47.03    CUDA Version: 11.6     |\n",
            "|-------------------------------+----------------------+----------------------+\n",
            "| GPU  Name        Persistence-M| Bus-Id        Disp.A | Volatile Uncorr. ECC |\n",
            "| Fan  Temp  Perf  Pwr:Usage/Cap|         Memory-Usage | GPU-Util  Compute M. |\n",
            "|                               |                      |               MIG M. |\n",
            "|===============================+======================+======================|\n",
            "|   0  NVIDIA GeForce ...  Off  | 00000000:01:00.0  On |                  N/A |\n",
            "|  0%   57C    P0    57W / 250W |   1482MiB /  8192MiB |      4%      Default |\n",
            "|                               |                      |                  N/A |\n",
            "+-------------------------------+----------------------+----------------------+\n",
            "                                                                               \n",
            "+-----------------------------------------------------------------------------+\n",
            "| Processes:                                                                  |\n",
            "|  GPU   GI   CI        PID   Type   Process name                  GPU Memory |\n",
            "|        ID   ID                                                   Usage      |\n",
            "|=============================================================================|\n",
            "|    0   N/A  N/A      1672      G   /usr/lib/xorg/Xorg                 96MiB |\n",
            "|    0   N/A  N/A      2467      G   /usr/lib/xorg/Xorg                609MiB |\n",
            "|    0   N/A  N/A      2661      G   /usr/bin/gnome-shell               86MiB |\n",
            "|    0   N/A  N/A     13383      G   ...b/thunderbird/thunderbird      209MiB |\n",
            "|    0   N/A  N/A     49336      G   ...680596868072451154,131072      378MiB |\n",
            "|    0   N/A  N/A     49413      G   ...AAAAAAAAA= --shared-files       54MiB |\n",
            "+-----------------------------------------------------------------------------+\n"
          ]
        }
      ]
    },
    {
      "cell_type": "code",
      "source": [
        "%%bash\n",
        "\n",
        "CUDA_SUFF=70\n",
        "nvcc -gencode arch=compute_${CUDA_SUFF},code=sm_${CUDA_SUFF} ./vector_add.cu -o vector_add\n",
        "./vector_add"
      ],
      "metadata": {
        "colab": {
          "base_uri": "https://localhost:8080/"
        },
        "id": "ulcMWpqdsN-Z",
        "outputId": "1757a471-66bb-424f-a8da-5d889fbf0c99"
      },
      "execution_count": 23,
      "outputs": [
        {
          "output_type": "stream",
          "name": "stdout",
          "text": [
            "CPU assertion PASSED\n",
            "CPU Last element in the array: out[1023] = 3.00\n",
            "\n",
            "GPU Last element in the array: out[1023] = 3.00\n",
            "GPU assertion PASSED\n",
            "\n"
          ]
        }
      ]
    },
    {
      "cell_type": "code",
      "source": [
        "!ls"
      ],
      "metadata": {
        "colab": {
          "base_uri": "https://localhost:8080/"
        },
        "id": "-0_107h8vTco",
        "outputId": "9cf1b8d8-71d4-4bd4-b4bb-77fa026df973"
      },
      "execution_count": 24,
      "outputs": [
        {
          "output_type": "stream",
          "name": "stdout",
          "text": [
            " bin\t\t\t\t\t\t      my_file.txt\r\n",
            " cuda-ubuntu2004.pin\t\t\t\t      NIE_GITHUB\r\n",
            " DATA_FOR_PLOTS\t\t\t\t\t      node_modules\r\n",
            " default-0b26409d-9fdb-4576-9c1d-98530570b3ef.ipynb   nvvp_workspace\r\n",
            " Desktop\t\t\t\t\t      opt\r\n",
            " Documents\t\t\t\t\t      package-lock.json\r\n",
            " Downloads\t\t\t\t\t      Pictures\r\n",
            " Dropbox\t\t\t\t\t      Public\r\n",
            " GITHUB\t\t\t\t\t\t      R\r\n",
            " go\t\t\t\t\t\t      rpmbuild\r\n",
            " issue_tclb.txt\t\t\t\t\t      snap\r\n",
            " java_error_in_PYCHARM_19872.log\t\t      SOFTWARE\r\n",
            " mono_crash.d4716fb0.0.json\t\t\t      Templates\r\n",
            " mono_crash.d4716fb0.1.json\t\t\t      vector_add\r\n",
            " mono_crash.d4716fb0.2.json\t\t\t      vector_add.cu\r\n",
            " mono_crash.mem.70886.1.blob\t\t\t      Videos\r\n",
            " Music\t\t\t\t\t\t     'VirtualBox VMs'\r\n"
          ]
        }
      ]
    }
  ]
}