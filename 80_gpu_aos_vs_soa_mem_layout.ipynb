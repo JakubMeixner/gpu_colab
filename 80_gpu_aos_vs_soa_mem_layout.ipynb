{
  "cells": [
    {
      "cell_type": "markdown",
      "metadata": {
        "id": "view-in-github",
        "colab_type": "text"
      },
      "source": [
        "<a href=\"https://colab.research.google.com/github/ggruszczynski/gpu_colab/blob/main/80_gpu_aos_vs_soa_mem_layout.ipynb\" target=\"_parent\"><img src=\"https://colab.research.google.com/assets/colab-badge.svg\" alt=\"Open In Colab\"/></a>"
      ]
    },
    {
      "cell_type": "markdown",
      "metadata": {
        "id": "5Tkq6AdIwtOR"
      },
      "source": [
        "# Memory layout - porting issues\n",
        "\n",
        "Consider a set of points (x,y,z) describing some geometry...\n",
        "\n",
        "![Mesh-of-a-F1-car.jpg](https://github.com/ggruszczynski/gpu_colab/blob/main/lectures/figures/Mesh-of-a-F1-car.jpg?raw=1)"
      ]
    },
    {
      "cell_type": "code",
      "execution_count": 1,
      "metadata": {
        "colab": {
          "base_uri": "https://localhost:8080/"
        },
        "id": "80fYwvaihxY0",
        "outputId": "80478a49-88ad-448d-b7ce-fe04f3300071"
      },
      "outputs": [
        {
          "output_type": "stream",
          "name": "stdout",
          "text": [
            "Wed Jun 14 08:29:44 2023       \n",
            "+-----------------------------------------------------------------------------+\n",
            "| NVIDIA-SMI 525.85.12    Driver Version: 525.85.12    CUDA Version: 12.0     |\n",
            "|-------------------------------+----------------------+----------------------+\n",
            "| GPU  Name        Persistence-M| Bus-Id        Disp.A | Volatile Uncorr. ECC |\n",
            "| Fan  Temp  Perf  Pwr:Usage/Cap|         Memory-Usage | GPU-Util  Compute M. |\n",
            "|                               |                      |               MIG M. |\n",
            "|===============================+======================+======================|\n",
            "|   0  Tesla T4            Off  | 00000000:00:04.0 Off |                    0 |\n",
            "| N/A   73C    P8    12W /  70W |      0MiB / 15360MiB |      0%      Default |\n",
            "|                               |                      |                  N/A |\n",
            "+-------------------------------+----------------------+----------------------+\n",
            "                                                                               \n",
            "+-----------------------------------------------------------------------------+\n",
            "| Processes:                                                                  |\n",
            "|  GPU   GI   CI        PID   Type   Process name                  GPU Memory |\n",
            "|        ID   ID                                                   Usage      |\n",
            "|=============================================================================|\n",
            "|  No running processes found                                                 |\n",
            "+-----------------------------------------------------------------------------+\n"
          ]
        }
      ],
      "source": [
        "!nvidia-smi"
      ]
    },
    {
      "cell_type": "code",
      "execution_count": 2,
      "metadata": {
        "colab": {
          "base_uri": "https://localhost:8080/"
        },
        "id": "CCNRnP5xh26B",
        "outputId": "959566da-2016-43d3-859f-d9f00ce06ab1"
      },
      "outputs": [
        {
          "output_type": "stream",
          "name": "stdout",
          "text": [
            "Total number of elements: 201326592 \n",
            "Dimensions of the matrix MxM: 8192x8192 \n",
            "Memory size of array in [MB]: 1610.612736\n"
          ]
        }
      ],
      "source": [
        "from numba import cuda\n",
        "from numba import jit\n",
        "import numpy as np\n",
        "import math\n",
        "from numba import vectorize, int8, int32, int64, float32, float64\n",
        "import matplotlib.pyplot as plt\n",
        "\n",
        "np.set_printoptions(precision=1, suppress=True)\n",
        "\n",
        "%matplotlib inline\n",
        "\n",
        "M = 2**13     # ~1000MB, 2**13=8192 on GPU SOA is better than AOS\n",
        "# M = 2**11       # ~100MB, 2**11=2048\n",
        "# M = 2**10     # ~10MB, 2**10=1024 on both CPU & GPU: SOA ~ AOS\n",
        "# M = 2**6      # <1MB, 2**6=64 no difference between AOS and SOA, CPU is faster\n",
        "\n",
        "\n",
        "\n",
        "N = 3*M**2\n",
        "\n",
        "a = np.arange(N, dtype=np.float64) # [0...N] on the host\n",
        "print(f\"Total number of elements: {N} \\nDimensions of the matrix MxM: {M}x{M} \\nMemory size of array in [MB]: {a.nbytes/1E6}\")\n"
      ]
    },
    {
      "cell_type": "code",
      "execution_count": 3,
      "metadata": {
        "colab": {
          "base_uri": "https://localhost:8080/"
        },
        "id": "rvacfqFtkxvn",
        "outputId": "e81f0298-d2e8-4eb5-deaa-2aea5d9d2bf5"
      },
      "outputs": [
        {
          "output_type": "stream",
          "name": "stdout",
          "text": [
            "Blockspergrid: (256, 256), Total number of threads in a block: 1024\n"
          ]
        }
      ],
      "source": [
        "# threadsperblock = (8,8)  # for M = 2**6 = 64\n",
        "threadsperblock = (32,32)\n",
        "blockspergrid_x = math.ceil(M / threadsperblock[0])\n",
        "blockspergrid_y = math.ceil(M / threadsperblock[1])\n",
        "# blockspergrid_z = math.ceil(d_a.shape[2] / threadsperblock[2])\n",
        "blockspergrid = (blockspergrid_x, blockspergrid_y)\n",
        "total_threads_in_block = threadsperblock[0]*threadsperblock[1]\n",
        "assert total_threads_in_block <= 1024 # hardware limit\n",
        "assert total_threads_in_block <= M # avoid useless threads\n",
        "\n",
        "print(f\"Blockspergrid: {blockspergrid}, Total number of threads in a block: {total_threads_in_block}\")"
      ]
    },
    {
      "cell_type": "markdown",
      "metadata": {
        "id": "Uln1RQRirPjA"
      },
      "source": [
        "# AOS (Array of Structures)\n",
        "\n",
        "The MxM matrix stores Points(x,y,z) in its most inner dimension\n"
      ]
    },
    {
      "cell_type": "code",
      "execution_count": 4,
      "metadata": {
        "colab": {
          "base_uri": "https://localhost:8080/"
        },
        "id": "3VQD-8LmiBCs",
        "outputId": "2adb40c9-21d3-4bb6-ce6f-de21ffe7910c"
      },
      "outputs": [
        {
          "output_type": "stream",
          "name": "stdout",
          "text": [
            " Shape: (8192, 8192, 3) \n",
            " Strides (196608, 24, 8) \n",
            " Content [[0. 1. 2.]\n",
            " [3. 4. 5.]\n",
            " [6. 7. 8.]]\n"
          ]
        }
      ],
      "source": [
        "arr_aos = a.reshape(M,M,3)        # The MxM matrix stores Points(x,y,z) in its most inner dimension\n",
        "aos_out = np.zeros_like(arr_aos)\n",
        "print(f\" Shape: {arr_aos.shape} \\n Strides {arr_aos.strides} \\n Content {arr_aos[0,0:3,:]}\")\n",
        "\n",
        "d_arr_aos = cuda.to_device(arr_aos)           # Copy array from host to the device\n",
        "d_aos_out = cuda.device_array_like(d_arr_aos) # preallocate an arracy filled with 0\n",
        "\n",
        "# print(f\"GPU result:\\n {d_aos_out.copy_to_host()[0,0:3,:]}\")"
      ]
    },
    {
      "cell_type": "code",
      "execution_count": 5,
      "metadata": {
        "id": "hbO3ERQ8izdI"
      },
      "outputs": [],
      "source": [
        "@jit(nopython=True)\n",
        "def cpu_aos(M, A_in,  A_out):\n",
        "    for tidy in range(M):\n",
        "      for tidx in range(M):\n",
        "        A_out[tidy][tidx][0] = A_in[tidy][tidx][0]\n",
        "        A_out[tidy][tidx][1] = A_in[tidy][tidx][1]\n",
        "        A_out[tidy][tidx][2] = A_in[tidy][tidx][2] + 1000\n",
        "\n",
        "@cuda.jit\n",
        "def kernel_gpu_aos(M, A_in, A_out):\n",
        "    tidx, tidy = cuda.grid(2)\n",
        "    # The above is equivalent to the following 2 lines of code:\n",
        "    # x = cuda.blockIdx.x * cuda.blockDim.x + cuda.threadIdx.x\n",
        "    # y = cuda.blockIdx.y * cuda.blockDim.y + cuda.threadIdx.y\n",
        "\n",
        "    # loop over all points in domain (except boundary)\n",
        "    if (tidx < M and tidy < M):\n",
        "        A_out[tidx][tidy][0] = A_in[tidx][tidy][0]\n",
        "        A_out[tidx][tidy][1] = A_in[tidx][tidy][1]\n",
        "        A_out[tidx][tidy][2] = A_in[tidx][tidy][2] + 1000\n",
        "\n",
        "@cuda.jit\n",
        "def kernel_gpu_aos2(M, A_in, A_out):\n",
        "    tidx, tidy = cuda.grid(2)\n",
        "    # The above is equivalent to the following 2 lines of code:\n",
        "    # x = cuda.blockIdx.x * cuda.blockDim.x + cuda.threadIdx.x\n",
        "    # y = cuda.blockIdx.y * cuda.blockDim.y + cuda.threadIdx.y\n",
        "\n",
        "    # loop over all points in domain (except boundary)\n",
        "    if (tidx < M and tidy < M):\n",
        "        A_out[tidy][tidx][0] = A_in[tidy][tidx][0]\n",
        "        A_out[tidy][tidx][1] = A_in[tidy][tidx][1]\n",
        "        A_out[tidy][tidx][2] = A_in[tidy][tidx][2] + 1001"
      ]
    },
    {
      "cell_type": "code",
      "execution_count": 6,
      "metadata": {
        "colab": {
          "base_uri": "https://localhost:8080/"
        },
        "id": "9_hI52-pkCZM",
        "outputId": "5af3dbb4-02ab-423f-9dd0-44a6ba50fca7"
      },
      "outputs": [
        {
          "output_type": "stream",
          "name": "stdout",
          "text": [
            "29.4 ms ± 621 µs per loop (mean ± std. dev. of 7 runs, 1000 loops each)\n"
          ]
        }
      ],
      "source": [
        "%timeit kernel_gpu_aos[blockspergrid, threadsperblock](M, d_arr_aos, d_aos_out)"
      ]
    },
    {
      "cell_type": "code",
      "source": [
        "%timeit kernel_gpu_aos2[blockspergrid, threadsperblock](M, d_arr_aos, d_aos_out)"
      ],
      "metadata": {
        "id": "VuBSLTNj9QsD",
        "outputId": "8e8cbe2c-2400-43dd-a7fe-9d52654ef188",
        "colab": {
          "base_uri": "https://localhost:8080/"
        }
      },
      "execution_count": 7,
      "outputs": [
        {
          "output_type": "stream",
          "name": "stdout",
          "text": [
            "The slowest run took 5.22 times longer than the fastest. This could mean that an intermediate result is being cached.\n",
            "83.6 µs ± 70.1 µs per loop (mean ± std. dev. of 7 runs, 1 loop each)\n"
          ]
        }
      ]
    },
    {
      "cell_type": "code",
      "execution_count": 8,
      "metadata": {
        "id": "x8htVlgVmFis"
      },
      "outputs": [],
      "source": [
        "# %timeit cpu_aos(M, arr_aos, aos_out) #to slow"
      ]
    },
    {
      "cell_type": "code",
      "execution_count": 9,
      "metadata": {
        "colab": {
          "base_uri": "https://localhost:8080/"
        },
        "id": "PDd3pDZUp1yC",
        "outputId": "8cc1ce82-15c2-4ece-e6ed-33d0529dd76f"
      },
      "outputs": [
        {
          "output_type": "stream",
          "name": "stdout",
          "text": [
            "GPU result:\n",
            " [[   0.    1. 1003.]\n",
            " [   3.    4. 1006.]\n",
            " [   6.    7. 1009.]]\n"
          ]
        }
      ],
      "source": [
        "# print(f\"CPU result:\\n {aos_out[0,0:3,:]}\")\n",
        "print(f\"GPU result:\\n {d_aos_out.copy_to_host()[0,0:3,:]}\")"
      ]
    },
    {
      "cell_type": "markdown",
      "metadata": {
        "id": "pDTTeOBArUEQ"
      },
      "source": [
        "## Cleanup"
      ]
    },
    {
      "cell_type": "code",
      "execution_count": 10,
      "metadata": {
        "id": "gcPBw2whrV-e"
      },
      "outputs": [],
      "source": [
        "del arr_aos\n",
        "del aos_out\n",
        "\n",
        "del d_arr_aos\n",
        "del d_aos_out"
      ]
    },
    {
      "cell_type": "markdown",
      "metadata": {
        "id": "wEC6wPRLrKC0"
      },
      "source": [
        "# SOA (Structure of Arrays)\n",
        "\n",
        "Each of the MxM matrices stores only the x, y or z coordinates."
      ]
    },
    {
      "cell_type": "code",
      "execution_count": 11,
      "metadata": {
        "colab": {
          "base_uri": "https://localhost:8080/"
        },
        "id": "gat73fHNo3U4",
        "outputId": "f3ead70a-ab1f-43ae-c4af-9ee200086291"
      },
      "outputs": [
        {
          "output_type": "stream",
          "name": "stdout",
          "text": [
            " Shape: (3, 8192, 8192) \n",
            " Strides (536870912, 65536, 8) \n",
            " Content [1.3e+08 1.3e+08 1.3e+08 1.3e+08 1.3e+08 1.3e+08 1.3e+08 1.3e+08 1.3e+08\n",
            " 1.3e+08]\n"
          ]
        }
      ],
      "source": [
        "arr_soa = a.reshape(3,M,M)                     # Each of the most outer dimensions stores a MxM matrix stores only x, y or z coordinates.\n",
        "out_soa = np.zeros_like(arr_soa)\n",
        "\n",
        "print(f\" Shape: {arr_soa.shape} \\n Strides {arr_soa.strides} \\n Content {arr_soa[2,0,:10]}\")\n",
        "\n",
        "d_arr_soa = cuda.to_device(arr_soa)            # Copy array from host to the device\n",
        "d_soa_out = cuda.device_array_like(d_arr_soa)  # preallocate an arracy filled with 0"
      ]
    },
    {
      "cell_type": "code",
      "execution_count": 12,
      "metadata": {
        "id": "L8pMe3CHmPMR"
      },
      "outputs": [],
      "source": [
        "@jit(nopython=True)\n",
        "def cpu_soa(M, A_in,  A_out):\n",
        "    for tidy in range(M):\n",
        "      for tidx in range(M):\n",
        "        A_out[0][tidy][tidx] = A_in[0][tidy][tidx]\n",
        "        A_out[1][tidy][tidx] = A_in[1][tidy][tidx]\n",
        "        A_out[2][tidy][tidx] = A_in[2][tidy][tidx] + 1000\n",
        "\n",
        "@cuda.jit\n",
        "def kernel_gpu_soa(M, A_in,  A_out):\n",
        "    tidx, tidy = cuda.grid(2)\n",
        "    # The above is equivalent to the following 2 lines of code:\n",
        "    # x = cuda.blockIdx.x * cuda.blockDim.x + cuda.threadIdx.x\n",
        "    # y = cuda.blockIdx.y * cuda.blockDim.y + cuda.threadIdx.y\n",
        "\n",
        "    # loop over all points in domain (except boundary)\n",
        "    if (tidx < M and tidy < M):\n",
        "       A_out[0][tidx][tidy] = A_in[0][tidx][tidy]\n",
        "       A_out[1][tidx][tidy] = A_in[1][tidx][tidy]\n",
        "       A_out[2][tidx][tidy] = A_in[2][tidx][tidy] + 1000\n",
        "\n",
        "@cuda.jit\n",
        "def kernel_gpu_soa2(M, A_in,  A_out):\n",
        "    tidx, tidy = cuda.grid(2)\n",
        "    # The above is equivalent to the following 2 lines of code:\n",
        "    # x = cuda.blockIdx.x * cuda.blockDim.x + cuda.threadIdx.x\n",
        "    # y = cuda.blockIdx.y * cuda.blockDim.y + cuda.threadIdx.y\n",
        "\n",
        "    # loop over all points in domain (except boundary)\n",
        "    if (tidx < M and tidy < M):\n",
        "       A_out[0][tidy][tidx] = A_in[0][tidy][tidx]\n",
        "       A_out[1][tidy][tidx] = A_in[1][tidy][tidx]\n",
        "       A_out[2][tidy][tidx] = A_in[2][tidy][tidx] + 1001"
      ]
    },
    {
      "cell_type": "code",
      "execution_count": 13,
      "metadata": {
        "colab": {
          "base_uri": "https://localhost:8080/"
        },
        "id": "jbCeO19HpRdk",
        "outputId": "3739ad80-fda1-4793-847b-cd8fa4023718"
      },
      "outputs": [
        {
          "output_type": "stream",
          "name": "stdout",
          "text": [
            "29.4 ms ± 148 µs per loop (mean ± std. dev. of 7 runs, 1000 loops each)\n"
          ]
        }
      ],
      "source": [
        "%timeit kernel_gpu_soa[blockspergrid, threadsperblock](M, d_arr_soa, d_soa_out)"
      ]
    },
    {
      "cell_type": "code",
      "source": [
        "%timeit kernel_gpu_soa2[blockspergrid, threadsperblock](M, d_arr_soa, d_soa_out)"
      ],
      "metadata": {
        "id": "o1RhqJCD6ti8",
        "outputId": "63e4f28d-8942-4143-ce78-4f6e9b0a1b6a",
        "colab": {
          "base_uri": "https://localhost:8080/"
        }
      },
      "execution_count": 14,
      "outputs": [
        {
          "output_type": "stream",
          "name": "stdout",
          "text": [
            "The slowest run took 4.77 times longer than the fastest. This could mean that an intermediate result is being cached.\n",
            "84.9 µs ± 64.2 µs per loop (mean ± std. dev. of 7 runs, 1 loop each)\n"
          ]
        }
      ]
    },
    {
      "cell_type": "code",
      "execution_count": 15,
      "metadata": {
        "id": "QfIKS9onl-Cj"
      },
      "outputs": [],
      "source": [
        "# %timeit cpu_soa(M, arr_soa, out_soa)  #to slow"
      ]
    },
    {
      "cell_type": "code",
      "execution_count": 16,
      "metadata": {
        "colab": {
          "base_uri": "https://localhost:8080/"
        },
        "id": "_iJhdOa5l-fF",
        "outputId": "6d75b0b2-34e7-40c0-afb9-bd49556811b5"
      },
      "outputs": [
        {
          "output_type": "stream",
          "name": "stdout",
          "text": [
            "GPU result:\n",
            " [1.3e+08 1.3e+08 1.3e+08 1.3e+08 1.3e+08 1.3e+08 1.3e+08 1.3e+08 1.3e+08\n",
            " 1.3e+08]\n"
          ]
        }
      ],
      "source": [
        "# print(f\"CPU result:\\n {out_soa[2,0,:10]}\")\n",
        "print(f\"GPU result:\\n {d_soa_out.copy_to_host()[2,0,:10]}\")"
      ]
    },
    {
      "cell_type": "markdown",
      "metadata": {
        "id": "m40dapYIy4nN"
      },
      "source": [
        "## Cleanup"
      ]
    },
    {
      "cell_type": "code",
      "execution_count": 17,
      "metadata": {
        "id": "Q-efEasAywsE"
      },
      "outputs": [],
      "source": [
        "del arr_soa\n",
        "del out_soa\n",
        "\n",
        "del d_arr_soa\n",
        "del d_soa_out"
      ]
    }
  ],
  "metadata": {
    "accelerator": "GPU",
    "colab": {
      "provenance": [],
      "gpuType": "T4",
      "include_colab_link": true
    },
    "kernelspec": {
      "display_name": "Python 3",
      "name": "python3"
    },
    "language_info": {
      "codemirror_mode": {
        "name": "ipython",
        "version": 3
      },
      "file_extension": ".py",
      "mimetype": "text/x-python",
      "name": "python",
      "nbconvert_exporter": "python",
      "pygments_lexer": "ipython3",
      "version": "3.8.10"
    }
  },
  "nbformat": 4,
  "nbformat_minor": 0
}