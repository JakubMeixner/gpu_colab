{
 "cells": [
  {
   "cell_type": "markdown",
   "metadata": {
    "colab_type": "text",
    "id": "view-in-github"
   },
   "source": [
    "<a href=\"https://colab.research.google.com/github/ggruszczynski/gpu_colab/blob/main/20_vector_add.ipynb\" target=\"_parent\"><img src=\"https://colab.research.google.com/assets/colab-badge.svg\" alt=\"Open In Colab\"/></a>"
   ]
  },
  {
   "cell_type": "markdown",
   "metadata": {
    "id": "mqzS-d1dqDPQ"
   },
   "source": [
    "# Vector Add\n",
    "\n",
    "In this example, a step by step vector addition on GPU will be shown. This kind of operation is known as SAXPY (Single-precision A*X Plus Y).\n",
    "\n"
   ]
  },
  {
   "cell_type": "code",
   "execution_count": 1,
   "metadata": {
    "colab": {
     "base_uri": "https://localhost:8080/"
    },
    "id": "LA9OzTz9qDin",
    "outputId": "8145737d-f187-42bb-cb03-ad98c1f1ecdf",
    "tags": []
   },
   "outputs": [
    {
     "name": "stdout",
     "output_type": "stream",
     "text": [
      "Writing vector_add.cu\n"
     ]
    }
   ],
   "source": [
    "%%file vector_add.cu\n",
    "#include <stdio.h>\n",
    "#include <assert.h>\n",
    "\n",
    "\n",
    "//cudaMemcpy (void ∗dst, const void ∗src, size t count, enum cudaMemcpyKind kind)\n",
    "#define MAX_THREADS_IN_BLOCK 1024\n",
    "\n",
    "#define MAX_ERR 1e-6\n",
    "\n",
    "using namespace std;\n",
    "\n",
    "void cpu_vector_add(float *h_out, float *h_a, float *h_b, int n) {\n",
    "    int tid = 0; // this is CPU zero, so we start at zero\n",
    "    while (tid < n)\n",
    "    {\n",
    "        h_out[tid] = h_a[tid] + h_b[tid];\n",
    "        tid += 1;  // we have one CPU, so we increment by one\n",
    "    }\n",
    "\n",
    "    // same, using the for loop\n",
    "    // for(int i = 0; i < n; i++){\n",
    "    //     h_out[i] = h_a[i] + h_b[i];\n",
    "    // }\n",
    "}\n",
    "\n",
    "__global__ void gpu_vector_add(float *out, float *a, float *b, int n) {\n",
    "    // built-in variable blockDim.x describes amount threads per block\n",
    "    int tid = blockIdx.x * blockDim.x + threadIdx.x;\n",
    "\n",
    "    // check if still inside array\n",
    "    if (tid < n)\n",
    "        out[tid] = a[tid] + b[tid];\n",
    "\n",
    "    // more advanced version - handling arbitrary vector/kernel size\n",
    "    // Consider case when gridDim*blockDim < vector size\n",
    "    // int step = gridDim.x * blockDim.x;\n",
    "    // while (tid < n)\n",
    "    // {\n",
    "    //     out[tid] = a[tid] + b[tid];\n",
    "    //     tid += step;\n",
    "    // }\n",
    "\n",
    "    // same, using the for loop\n",
    "    // for(; tid < n; tid += step){\n",
    "    //     out[tid] = a[tid] + b[tid];\n",
    "    // }\n",
    "}\n",
    "\n",
    "void CPU_version_wrapper(const int N)\n",
    "{\n",
    "    float *h_a, *h_b, *h_out; \n",
    "\n",
    "    // Allocate host memory (RAM for CPU)\n",
    "    h_a   = (float*)malloc(sizeof(float) * N);\n",
    "    h_b   = (float*)malloc(sizeof(float) * N);\n",
    "    h_out = (float*)malloc(sizeof(float) * N);\n",
    "\n",
    "    // Initialize array\n",
    "    for(int i = 0; i < N; i++){\n",
    "        h_a[i] = 1.0; \n",
    "        h_b[i] = 2.0;\n",
    "    }\n",
    "\n",
    "    // Main function\n",
    "    cpu_vector_add(h_out, h_a, h_b, N);\n",
    "\n",
    "    for(int i = 0; i < N; i++){\n",
    "        assert(fabs(h_out[i] - h_a[i] - h_b[i]) < MAX_ERR);\n",
    "    }\n",
    "    printf(\"CPU assertion PASSED\\n\");\n",
    "    printf(\"CPU Last element in the array: out[%d] = %.2f\\n\\n\",N-1,  h_out[N-1]);\n",
    "\n",
    "    // Cleanup host memory\n",
    "    free(h_a); free(h_b); free(h_out);\n",
    "}\n",
    "\n",
    "void GPU_version_wrapper(const int N)\n",
    "{\n",
    "\n",
    "    // Allocate CPU memory\n",
    "    float *h_a, *h_b, *h_out; \n",
    "    h_a   = (float*)malloc(sizeof(float) * N);\n",
    "    h_b   = (float*)malloc(sizeof(float) * N);\n",
    "    h_out = (float*)malloc(sizeof(float) * N);\n",
    "\n",
    "    // Initialize array\n",
    "    for(int i = 0; i < N; i++){\n",
    "        h_a[i] = 1.0; \n",
    "        h_b[i] = 2.0;\n",
    "    }\n",
    "    \n",
    "    // Allocate device memory for d_a\n",
    "    float *d_a, *d_b, *d_out;\n",
    "    cudaMalloc((void**)&d_a, sizeof(float) * N);\n",
    "    cudaMalloc((void**)&d_b, sizeof(float) * N);\n",
    "    cudaMalloc((void**)&d_out, sizeof(float) * N);\n",
    "\n",
    "    // Transfer data from host to device  (global) memory\n",
    "    cudaMemcpy(d_a, h_a, sizeof(float) * N, cudaMemcpyHostToDevice);\n",
    "    cudaMemcpy(d_b, h_b, sizeof(float) * N, cudaMemcpyHostToDevice);\n",
    "\n",
    "    // Main function: Call the kernel\n",
    "    gpu_vector_add<<<1,MAX_THREADS_IN_BLOCK>>>(d_out, d_a, d_b, N);//  <<<blocks, threads_per_block>>>\n",
    "   \n",
    "    // implement a kernel for which gridDim*blockDim < vector size\n",
    "    // gpu_vector_add<<<2,64>>>(d_out, d_a, d_b, N);//  <<<blocks, threads_per_block>>>\n",
    "\n",
    "    // if N is a friendly multiplier of THREADS_PER_BLOCK\n",
    "    // gpu_vector_add<<<N/MAX_THREADS_IN_BLOCK,MAX_THREADS_IN_BLOCK>>>(d_out, d_a, d_b, N);\n",
    "    \n",
    "    // if N is not a friendly multiplier of THREADS_PER_BLOCK\n",
    "    // gpu_vector_add<<<(N + MAX_THREADS_IN_BLOCK-1) / MAX_THREADS_IN_BLOCK, MAX_THREADS_IN_BLOCK>>>(d_out, d_a, d_b, N);\n",
    "\n",
    "    // Transfer data from device (global) memory to host\n",
    "    cudaMemcpy(h_out, d_out, sizeof(float) * N, cudaMemcpyDeviceToHost);\n",
    "    // cudaMemcpy() Blocks the CPU until the copy is complete\n",
    "    // Copy begins when all preceding CUDA calls have completed\n",
    "\n",
    "    // Verification\n",
    "    printf(\"GPU Last element in the array: out[%d] = %.2f\\n\",N-1,  h_out[N-1]);\n",
    "    for(int i = 0; i < N; i++){\n",
    "        assert(fabs(h_out[i] - h_a[i] - h_b[i]) < MAX_ERR);\n",
    "    }\n",
    "\n",
    "    printf(\"GPU assertion PASSED\\n\\n\");\n",
    "    \n",
    "    // Cleanup memory after kernel execution\n",
    "    cudaFree(d_a);cudaFree(d_b);cudaFree(d_out);\n",
    "    free(h_a);free(h_b);free(h_out);\n",
    "}\n",
    "\n",
    "\n",
    "\n",
    "int main(){\n",
    "    const int N = 1024;\n",
    "    CPU_version_wrapper(N);\n",
    "    GPU_version_wrapper(N);\n",
    "\n",
    "    return 0;\n",
    "}"
   ]
  },
  {
   "cell_type": "code",
   "execution_count": 2,
   "metadata": {
    "colab": {
     "base_uri": "https://localhost:8080/"
    },
    "id": "BtRMp57qq2z_",
    "outputId": "a0b2ca17-1612-4ec4-81ea-b6f58e0d8a23"
   },
   "outputs": [
    {
     "name": "stdout",
     "output_type": "stream",
     "text": [
      "Check your GPU version\n",
      "Sun Apr 16 17:39:57 2023       \n",
      "+-----------------------------------------------------------------------------+\n",
      "| NVIDIA-SMI 510.108.03   Driver Version: 510.108.03   CUDA Version: 11.6     |\n",
      "|-------------------------------+----------------------+----------------------+\n",
      "| GPU  Name        Persistence-M| Bus-Id        Disp.A | Volatile Uncorr. ECC |\n",
      "| Fan  Temp  Perf  Pwr:Usage/Cap|         Memory-Usage | GPU-Util  Compute M. |\n",
      "|                               |                      |               MIG M. |\n",
      "|===============================+======================+======================|\n",
      "|   0  NVIDIA GeForce ...  Off  | 00000000:01:00.0  On |                  N/A |\n",
      "|  0%   58C    P5    31W / 250W |   1441MiB /  8192MiB |      4%      Default |\n",
      "|                               |                      |                  N/A |\n",
      "+-------------------------------+----------------------+----------------------+\n",
      "                                                                               \n",
      "+-----------------------------------------------------------------------------+\n",
      "| Processes:                                                                  |\n",
      "|  GPU   GI   CI        PID   Type   Process name                  GPU Memory |\n",
      "|        ID   ID                                                   Usage      |\n",
      "|=============================================================================|\n",
      "|    0   N/A  N/A      1703      G   /usr/lib/xorg/Xorg                 96MiB |\n",
      "|    0   N/A  N/A      2624      G   /usr/lib/xorg/Xorg                684MiB |\n",
      "|    0   N/A  N/A      2819      G   /usr/bin/gnome-shell               66MiB |\n",
      "|    0   N/A  N/A      3712      G   ...RendererForSitePerProcess        3MiB |\n",
      "|    0   N/A  N/A      8175      G   ...features=BackForwardCache       10MiB |\n",
      "|    0   N/A  N/A      8543      G   ...957248867340528764,131072      205MiB |\n",
      "|    0   N/A  N/A     13016      G   ...AAAAAAAAA= --shared-files       35MiB |\n",
      "|    0   N/A  N/A     14339      G   ...b/thunderbird/thunderbird      121MiB |\n",
      "|    0   N/A  N/A     15643      G   ...RendererForSitePerProcess      169MiB |\n",
      "+-----------------------------------------------------------------------------+\n"
     ]
    }
   ],
   "source": [
    "!echo \"Check your GPU version\"\n",
    "!nvidia-smi"
   ]
  },
  {
   "cell_type": "code",
   "execution_count": 3,
   "metadata": {
    "colab": {
     "base_uri": "https://localhost:8080/"
    },
    "id": "ulcMWpqdsN-Z",
    "outputId": "1757a471-66bb-424f-a8da-5d889fbf0c99",
    "tags": []
   },
   "outputs": [
    {
     "name": "stdout",
     "output_type": "stream",
     "text": [
      "CPU assertion PASSED\n",
      "CPU Last element in the array: out[1023] = 3.00\n",
      "\n",
      "GPU Last element in the array: out[1023] = 3.00\n",
      "GPU assertion PASSED\n",
      "\n"
     ]
    }
   ],
   "source": [
    "%%bash\n",
    "\n",
    "CUDA_SUFF=70\n",
    "nvcc -gencode arch=compute_${CUDA_SUFF},code=sm_${CUDA_SUFF} ./vector_add.cu -o vector_add\n",
    "./vector_add"
   ]
  },
  {
   "cell_type": "code",
   "execution_count": 4,
   "metadata": {
    "colab": {
     "base_uri": "https://localhost:8080/"
    },
    "id": "-0_107h8vTco",
    "outputId": "9cf1b8d8-71d4-4bd4-b4bb-77fa026df973",
    "tags": []
   },
   "outputs": [
    {
     "name": "stdout",
     "output_type": "stream",
     "text": [
      "10_intro_setup.ipynb\t\t       a.cpp\t      pdfy\n",
      "20_vector_add.ipynb\t\t       a.out\t      README.md\n",
      "30_element_wise_matrix_add.ipynb       experimental   requirements.txt\n",
      "30_matrix_matrix_multiplication.ipynb  gpu_colab      solutions\n",
      "40_parallel_reduction.ipynb\t       hello\t      src\n",
      "50_thrust.ipynb\t\t\t       hello.cpp      to_pdf_1by1.sh\n",
      "60_python_cuda_intro.ipynb\t       hello_cuda     vector_add\n",
      "70_heat_diffusion2D.ipynb\t       hello_cuda.cu  vector_add.cu\n"
     ]
    }
   ],
   "source": [
    "!ls"
   ]
  }
 ],
 "metadata": {
  "accelerator": "GPU",
  "colab": {
   "authorship_tag": "ABX9TyOXGMDjwKlMKTjZDe2LP3NT",
   "include_colab_link": true,
   "name": "example10_vector_add.ipynb",
   "provenance": []
  },
  "kernelspec": {
   "display_name": "Python 3 (ipykernel)",
   "language": "python",
   "name": "python3"
  },
  "language_info": {
   "codemirror_mode": {
    "name": "ipython",
    "version": 3
   },
   "file_extension": ".py",
   "mimetype": "text/x-python",
   "name": "python",
   "nbconvert_exporter": "python",
   "pygments_lexer": "ipython3",
   "version": "3.8.10"
  }
 },
 "nbformat": 4,
 "nbformat_minor": 4
}
